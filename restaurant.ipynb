{
 "cells": [
  {
   "cell_type": "code",
   "execution_count": 2,
   "metadata": {},
   "outputs": [
    {
     "name": "stdout",
     "output_type": "stream",
     "text": [
      "\n",
      "Hello, guest, welcome to AR restaurant. What can we serve you?\n"
     ]
    }
   ],
   "source": [
    "menu = {\n",
    "  'menu_1': 'Smoothie',\n",
    "  'menu_2': 'Main Dish',\n",
    "  'menu_3': 'Fruit Juice'\n",
    "}\n",
    "\n",
    "# Displaying welcome message\n",
    "print()\n",
    "print('Hello, guest, welcome to AR restaurant. What can we serve you?')\n",
    "choice = input(f'Please enter the item you want from the options { menu.values() }: ')\n",
    "\n"
   ]
  }
 ],
 "metadata": {
  "kernelspec": {
   "display_name": "Python 3",
   "language": "python",
   "name": "python3"
  },
  "language_info": {
   "codemirror_mode": {
    "name": "ipython",
    "version": 3
   },
   "file_extension": ".py",
   "mimetype": "text/x-python",
   "name": "python",
   "nbconvert_exporter": "python",
   "pygments_lexer": "ipython3",
   "version": "3.10.7"
  },
  "orig_nbformat": 4
 },
 "nbformat": 4,
 "nbformat_minor": 2
}
